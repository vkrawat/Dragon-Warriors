{
 "cells": [
  {
   "cell_type": "code",
   "execution_count": 16,
   "metadata": {},
   "outputs": [],
   "source": [
    "import pandas as pd\n",
    "import pytesseract\n",
    "from PIL import Image\n",
    "import re\n",
    "from nltk.corpus import stopwords\n",
    "from nltk.stem.porter import PorterStemmer\n",
    "import cv2"
   ]
  },
  {
   "cell_type": "code",
   "execution_count": 95,
   "metadata": {},
   "outputs": [],
   "source": [
    "corpus=[]\n",
    "for i in range(1000,1013):\n",
    "    try:\n",
    "        try:\n",
    "            img=Image.open(str(i)+'.jpeg') \n",
    "        except:\n",
    "            img=Image.open(str(i)+'.jpg')\n",
    "        text=str(pytesseract.image_to_string(img))\n",
    "        text=re.sub('[^a-zA-Z]',' ',text)\n",
    "        text=text.lower()\n",
    "        text=text.split()\n",
    "        text=[word for word in text if not word in set(stopwords.words('english'))]\n",
    "        text=' '.join(text)\n",
    "        corpus.append(str(i)+' :- '+text)\n",
    "        \n",
    "        \n",
    "    except:\n",
    "        continue\n",
    "        \n"
   ]
  },
  {
   "cell_type": "code",
   "execution_count": 96,
   "metadata": {},
   "outputs": [
    {
     "data": {
      "text/plain": [
       "['1000 :- break rock n qlt help go look stonecutter hammering away rock perhaps hundred times without much crack showing init yet hundred first blowit split two know blowthatdxdzt bzaallthathadgonebqbre oy f wa br v e',\n",
       " '1001 :- needa lts',\n",
       " '1002 :- n e e memorable catch phrase used identify product company advertisements',\n",
       " '1003 :- easy ways write easy slogan',\n",
       " '1004 :- lg lr yt guide slogans marketin',\n",
       " '1005 :- save rain water today enjoy tomorrow earth',\n",
       " '1007 :- rn pollution campaign slogans',\n",
       " '1008 :- polluting clear water slime never find good drinking water p ed ancient greek dramatist bc bc',\n",
       " '1009 :- drop water worth sack gold thirsty man',\n",
       " '1010 :- ',\n",
       " '1011 :- water life hit life',\n",
       " '1012 :- dreamstime com id pyatigorskayas']"
      ]
     },
     "execution_count": 96,
     "metadata": {},
     "output_type": "execute_result"
    }
   ],
   "source": [
    "corpus"
   ]
  },
  {
   "cell_type": "code",
   "execution_count": 97,
   "metadata": {},
   "outputs": [
    {
     "data": {
      "text/plain": [
       "'1004 :- lg lr yt guide slogans marketin'"
      ]
     },
     "execution_count": 97,
     "metadata": {},
     "output_type": "execute_result"
    }
   ],
   "source": [
    "corpus[4]"
   ]
  },
  {
   "cell_type": "code",
   "execution_count": 103,
   "metadata": {},
   "outputs": [],
   "source": [
    "def main(topic):\n",
    "    n=len(corpus)\n",
    "    i=0\n",
    "    topic=topic.lower()\n",
    "    for i in range(n):\n",
    "        text=corpus[i].split()\n",
    "        if topic in text:\n",
    "            print(text)\n",
    "\n",
    "        "
   ]
  },
  {
   "cell_type": "code",
   "execution_count": 106,
   "metadata": {},
   "outputs": [
    {
     "name": "stdout",
     "output_type": "stream",
     "text": [
      "Enter the topic to be searched pollution\n",
      "['1007', ':-', 'rn', 'pollution', 'campaign', 'slogans']\n"
     ]
    }
   ],
   "source": [
    "topic=input('Enter the topic to be searched ')\n",
    "main(topic)"
   ]
  },
  {
   "cell_type": "code",
   "execution_count": 107,
   "metadata": {},
   "outputs": [
    {
     "name": "stdout",
     "output_type": "stream",
     "text": [
      "Enter the index of the image 1007\n"
     ]
    }
   ],
   "source": [
    "#just for checking\n",
    "a=input('Enter the index of the image ')\n",
    "try:\n",
    "    \n",
    "    try:\n",
    "        img=cv2.imread(str(a)+'.jpeg')\n",
    "        cv2.imshow(\"image\",img)\n",
    "        cv2.waitKey()\n",
    "    except:\n",
    "        img=cv2.imread(str(a)+'.jpg')\n",
    "        cv2.imshow(\"image\",img)\n",
    "        cv2.waitKey()\n",
    "except:\n",
    "    print(\"wrong input\")"
   ]
  }
 ],
 "metadata": {
  "kernelspec": {
   "display_name": "Python 3",
   "language": "python",
   "name": "python3"
  },
  "language_info": {
   "codemirror_mode": {
    "name": "ipython",
    "version": 3
   },
   "file_extension": ".py",
   "mimetype": "text/x-python",
   "name": "python",
   "nbconvert_exporter": "python",
   "pygments_lexer": "ipython3",
   "version": "3.6.7"
  }
 },
 "nbformat": 4,
 "nbformat_minor": 2
}
